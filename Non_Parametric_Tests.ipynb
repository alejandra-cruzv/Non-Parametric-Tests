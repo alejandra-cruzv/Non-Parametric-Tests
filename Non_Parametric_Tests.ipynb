{
  "nbformat": 4,
  "nbformat_minor": 0,
  "metadata": {
    "colab": {
      "provenance": []
    },
    "kernelspec": {
      "name": "python3",
      "display_name": "Python 3"
    },
    "language_info": {
      "name": "python"
    }
  },
  "cells": [
    {
      "cell_type": "markdown",
      "source": [
        " # Prueba U de Mann-Whitney y Prueba H de Kruskal Wallis"
      ],
      "metadata": {
        "id": "os5lb0VMD41L"
      }
    },
    {
      "cell_type": "markdown",
      "source": [
        "### Librerías"
      ],
      "metadata": {
        "id": "x_ke-TmGD4Jj"
      }
    },
    {
      "cell_type": "code",
      "execution_count": 1,
      "metadata": {
        "colab": {
          "base_uri": "https://localhost:8080/"
        },
        "id": "1d0cCIuP7QqY",
        "outputId": "78df3839-5a28-4804-d05d-9aaaae0e860c"
      },
      "outputs": [
        {
          "output_type": "stream",
          "name": "stdout",
          "text": [
            "Collecting pingouin\n",
            "  Downloading pingouin-0.5.5-py3-none-any.whl.metadata (19 kB)\n",
            "Requirement already satisfied: matplotlib in /usr/local/lib/python3.10/dist-packages (from pingouin) (3.7.1)\n",
            "Requirement already satisfied: numpy in /usr/local/lib/python3.10/dist-packages (from pingouin) (1.26.4)\n",
            "Requirement already satisfied: pandas>=1.5 in /usr/local/lib/python3.10/dist-packages (from pingouin) (2.2.2)\n",
            "Collecting pandas-flavor (from pingouin)\n",
            "  Downloading pandas_flavor-0.6.0-py3-none-any.whl.metadata (6.3 kB)\n",
            "Requirement already satisfied: scikit-learn>=1.2 in /usr/local/lib/python3.10/dist-packages (from pingouin) (1.5.2)\n",
            "Requirement already satisfied: scipy in /usr/local/lib/python3.10/dist-packages (from pingouin) (1.13.1)\n",
            "Requirement already satisfied: seaborn in /usr/local/lib/python3.10/dist-packages (from pingouin) (0.13.2)\n",
            "Requirement already satisfied: statsmodels in /usr/local/lib/python3.10/dist-packages (from pingouin) (0.14.4)\n",
            "Requirement already satisfied: tabulate in /usr/local/lib/python3.10/dist-packages (from pingouin) (0.9.0)\n",
            "Requirement already satisfied: python-dateutil>=2.8.2 in /usr/local/lib/python3.10/dist-packages (from pandas>=1.5->pingouin) (2.8.2)\n",
            "Requirement already satisfied: pytz>=2020.1 in /usr/local/lib/python3.10/dist-packages (from pandas>=1.5->pingouin) (2024.2)\n",
            "Requirement already satisfied: tzdata>=2022.7 in /usr/local/lib/python3.10/dist-packages (from pandas>=1.5->pingouin) (2024.2)\n",
            "Requirement already satisfied: joblib>=1.2.0 in /usr/local/lib/python3.10/dist-packages (from scikit-learn>=1.2->pingouin) (1.4.2)\n",
            "Requirement already satisfied: threadpoolctl>=3.1.0 in /usr/local/lib/python3.10/dist-packages (from scikit-learn>=1.2->pingouin) (3.5.0)\n",
            "Requirement already satisfied: contourpy>=1.0.1 in /usr/local/lib/python3.10/dist-packages (from matplotlib->pingouin) (1.3.0)\n",
            "Requirement already satisfied: cycler>=0.10 in /usr/local/lib/python3.10/dist-packages (from matplotlib->pingouin) (0.12.1)\n",
            "Requirement already satisfied: fonttools>=4.22.0 in /usr/local/lib/python3.10/dist-packages (from matplotlib->pingouin) (4.54.1)\n",
            "Requirement already satisfied: kiwisolver>=1.0.1 in /usr/local/lib/python3.10/dist-packages (from matplotlib->pingouin) (1.4.7)\n",
            "Requirement already satisfied: packaging>=20.0 in /usr/local/lib/python3.10/dist-packages (from matplotlib->pingouin) (24.1)\n",
            "Requirement already satisfied: pillow>=6.2.0 in /usr/local/lib/python3.10/dist-packages (from matplotlib->pingouin) (10.4.0)\n",
            "Requirement already satisfied: pyparsing>=2.3.1 in /usr/local/lib/python3.10/dist-packages (from matplotlib->pingouin) (3.2.0)\n",
            "Requirement already satisfied: xarray in /usr/local/lib/python3.10/dist-packages (from pandas-flavor->pingouin) (2024.9.0)\n",
            "Requirement already satisfied: patsy>=0.5.6 in /usr/local/lib/python3.10/dist-packages (from statsmodels->pingouin) (0.5.6)\n",
            "Requirement already satisfied: six in /usr/local/lib/python3.10/dist-packages (from patsy>=0.5.6->statsmodels->pingouin) (1.16.0)\n",
            "Downloading pingouin-0.5.5-py3-none-any.whl (204 kB)\n",
            "\u001b[2K   \u001b[90m━━━━━━━━━━━━━━━━━━━━━━━━━━━━━━━━━━━━━━━━\u001b[0m \u001b[32m204.4/204.4 kB\u001b[0m \u001b[31m4.2 MB/s\u001b[0m eta \u001b[36m0:00:00\u001b[0m\n",
            "\u001b[?25hDownloading pandas_flavor-0.6.0-py3-none-any.whl (7.2 kB)\n",
            "Installing collected packages: pandas-flavor, pingouin\n",
            "Successfully installed pandas-flavor-0.6.0 pingouin-0.5.5\n",
            "Requirement already satisfied: scipy in /usr/local/lib/python3.10/dist-packages (1.13.1)\n",
            "Requirement already satisfied: numpy<2.3,>=1.22.4 in /usr/local/lib/python3.10/dist-packages (from scipy) (1.26.4)\n"
          ]
        }
      ],
      "source": [
        "!pip install pingouin\n",
        "!pip install scipy\n",
        "# Import standard packages\n",
        "import numpy as np\n",
        "import pandas as pd\n",
        "import pingouin as pg\n",
        "# additional packages\n",
        "from statsmodels.formula.api import ols\n",
        "from statsmodels.stats.anova import anova_lm\n",
        "from scipy import stats\n",
        "\n",
        ""
      ]
    },
    {
      "cell_type": "markdown",
      "source": [
        "#Ejercicios: Prueba U de Mann-Whitney\n",
        "\n"
      ],
      "metadata": {
        "id": "Zg4UlPH9CkPX"
      }
    },
    {
      "cell_type": "markdown",
      "source": [
        "## Ejercicio 1\n",
        "Se realizó un experimento para comparar las resistencias de dos tipos de papel de estraza: un papel de estraza estándar de un peso especificado y otro es el mismo papel tratado con una sustancia química. Piezas de cada tipo de papel, seleccionadas al azar de entre la producción, produjeron las mediciones de resistencia que se muestran en la tabla.\n",
        " Pruebe la hipótesis de que no hay diferencia en las distribuciones de\n",
        " resistencias para los dos tipos de papel, contra la hipótesis alternativa de que el papel tratado tiende a ser más fuerte. Use α = 0.05.\n",
        "\n",
        "\n",
        "![image.png](data:image/png;base64,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)"
      ],
      "metadata": {
        "id": "bjHaWKR5CuxT"
      }
    },
    {
      "cell_type": "code",
      "source": [
        "estandar = [1.21, 1.43,1.35,1.39,1.17,1.48,1.42,1.29,1.40]\n",
        "tratado = [1.49,1.37,1.67,1.50,1.31,1.29,1.52,1.37,1.44,1.53]"
      ],
      "metadata": {
        "id": "7KaDJD6FxI4W"
      },
      "execution_count": 2,
      "outputs": []
    },
    {
      "cell_type": "markdown",
      "source": [
        "## Contraste de Hipótesis\n",
        "\n",
        "$H_{0}:P_{E}\\neq P_{T}  \\ \\ \\text{vs} \\ \\ H_{a}:P_{E}<P_{T} $"
      ],
      "metadata": {
        "id": "5pIHBaSQBSlw"
      }
    },
    {
      "cell_type": "code",
      "source": [
        "results = pg.mwu(estandar, tratado, alternative='less')\n",
        "print(results)"
      ],
      "metadata": {
        "colab": {
          "base_uri": "https://localhost:8080/"
        },
        "id": "FimjLrAOBeSo",
        "outputId": "a75d6780-abf2-4943-c1e5-4b19b5983c4a"
      },
      "execution_count": 3,
      "outputs": [
        {
          "output_type": "stream",
          "name": "stdout",
          "text": [
            "     U-val alternative     p-val       RBC      CLES\n",
            "MWU   23.5        less  0.043067 -0.477778  0.738889\n"
          ]
        }
      ]
    },
    {
      "cell_type": "markdown",
      "source": [
        "## Conclusión\n",
        "\n",
        "$p-Value<\\alpha$, por lo tanto rechazamos $H_{0}$. Por lo tanto, $P_{T}> P_{E}.$  "
      ],
      "metadata": {
        "id": "zDqi0C6cEvR2"
      }
    },
    {
      "cell_type": "markdown",
      "source": [
        "## Ejercicio 2\n",
        "\n",
        " Los valores codificados para una medida de brillantez en papel (reflectividad ligera), elaborado por dos procesos diferentes, son como se\n",
        " muestra en la siguiente tabla para muestras de tamaño 13 obtenidas\n",
        " aleatoriamente de cada uno de los dos procesos. ¿Estos datos presentan\n",
        " suficiente evidencia para indicar una diferencia en la localización de las\n",
        " mediciones de brillantez para los dos procesos? Use α = 0.05.\n",
        "\n",
        "\n",
        " ![image.png](data:image/png;base64,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)"
      ],
      "metadata": {
        "id": "yPpFueWnFT4p"
      }
    },
    {
      "cell_type": "code",
      "source": [
        "A=[6.1,9.2,8.7,8.9,7.6,7.1,9.5,8.3,9.0,8.3,8.9,7.6,7.1]\n",
        "B=[9.1,8.2,8.6,6.9,7.5,7.9,8.3,7.8,8.9,8.6,6.9,9.5,9.0]"
      ],
      "metadata": {
        "id": "skXbzoP6GQFE"
      },
      "execution_count": 4,
      "outputs": []
    },
    {
      "cell_type": "markdown",
      "source": [
        "## Contraste de Hipótesis\n",
        "\n",
        "$H_{0}: A =B  \\ \\ \\text{vs} \\ \\ H_{a}:A \\neq B $"
      ],
      "metadata": {
        "id": "npbkHrdTGQFF"
      }
    },
    {
      "cell_type": "code",
      "source": [
        "results = pg.mwu(A,B)\n",
        "print(results)"
      ],
      "metadata": {
        "colab": {
          "base_uri": "https://localhost:8080/"
        },
        "outputId": "8cb371fc-a58e-4fa2-d5ce-2517d6478f99",
        "id": "AK9dyWjbGQFF"
      },
      "execution_count": 5,
      "outputs": [
        {
          "output_type": "stream",
          "name": "stdout",
          "text": [
            "     U-val alternative     p-val       RBC      CLES\n",
            "MWU   86.0   two-sided  0.959003  0.017751  0.508876\n"
          ]
        }
      ]
    },
    {
      "cell_type": "markdown",
      "source": [
        "## Conclusión\n",
        "\n",
        "$p-Value>\\alpha$, por lo tanto no rechazamos $H_{0}$. Por lo tanto, $A=B.$  "
      ],
      "metadata": {
        "id": "YZ8xCqpbGQFG"
      }
    },
    {
      "cell_type": "markdown",
      "source": [
        "## Ejercicio 3\n",
        "\n",
        "Se encontró que el contenido de nicotina de dos marcas de cigarrillos,\n",
        " medido en miligramos, es el siguiente:\n",
        "\n",
        " ![image.png](data:image/png;base64,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)\n",
        "\n",
        " A un nivel de significancia de 0.05 pruebe la hipótesis de que las medias\n",
        " del contenido de nicotina de las dos marcas son iguales, en comparación\n",
        " con la hipótesis alternativa de que la media de la marca A es mayor."
      ],
      "metadata": {
        "id": "7obzqthsIJ5O"
      }
    },
    {
      "cell_type": "code",
      "source": [
        "A=[2.1,4.0,6.3,5.4,4.8,3.7,6.1,3.3]\n",
        "B=[4.1,0.2,3.1,2.5,4.0,6.2,1.6,2.2,1.9,5.4]"
      ],
      "metadata": {
        "id": "KV9Mt9DEIZzD"
      },
      "execution_count": 6,
      "outputs": []
    },
    {
      "cell_type": "markdown",
      "source": [
        "## Contraste de Hipótesis\n",
        "\n",
        "$H_{0}: \\mu_{A} =\\mu_{B}  \\ \\ \\text{vs} \\ \\ H_{a}:\\mu_{A}> \\mu_{B} $"
      ],
      "metadata": {
        "id": "AamI9i0DIZzE"
      }
    },
    {
      "cell_type": "code",
      "source": [
        "results = pg.mwu(A,B, alternative='greater')\n",
        "print(results)"
      ],
      "metadata": {
        "colab": {
          "base_uri": "https://localhost:8080/"
        },
        "outputId": "961ee2d5-d043-4805-87d1-3e55a9609905",
        "id": "V99cQN6OIZzE"
      },
      "execution_count": 7,
      "outputs": [
        {
          "output_type": "stream",
          "name": "stdout",
          "text": [
            "     U-val alternative     p-val    RBC    CLES\n",
            "MWU   57.0     greater  0.071109  0.425  0.7125\n"
          ]
        }
      ]
    },
    {
      "cell_type": "markdown",
      "source": [
        "## Conclusión\n",
        "\n",
        "$p-Value>\\alpha$, por lo tanto no rechazamos $H_{0}$. Por lo tanto, $\\mu_{A} =\\mu_{B}$  "
      ],
      "metadata": {
        "id": "fVVMt77gIZzF"
      }
    },
    {
      "cell_type": "markdown",
      "source": [
        "## Ejercicio 4\n",
        "\n",
        "La Tucson State University ofrece dos programas de maestría en administración de empresas. En el primer programa, los estudiantes se\n",
        " reunen dos noches por semana en el campus principal, en el centro de\n",
        " Tucson. En el segundo programa, sólo se comunican por internet con\n",
        " el profesor. El director de la maestría de Tucson quiere comparar el\n",
        " número de horas que estudiaron la semana pasada los dos grupos. Una\n",
        " muestra de 10 estudiantes en el campus y otra de 12 estudiantes por\n",
        " internet reveló la siguiente información:\n",
        "\n",
        " ![image.png](data:image/png;base64,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)\n",
        "\n",
        " A un nivel de significancia de 0.05, ¿es posible concluir que los estudiantes por internet estudian más?"
      ],
      "metadata": {
        "id": "7k3s4NmcKAuq"
      }
    },
    {
      "cell_type": "code",
      "source": [
        "Campus=[28,16,42,29,31,22,50,42,23,25]\n",
        "Internet=[26,42,65,38,29,32,59,42,27,41,46,18]"
      ],
      "metadata": {
        "id": "Ffir37C4LBVn"
      },
      "execution_count": 8,
      "outputs": []
    },
    {
      "cell_type": "markdown",
      "source": [
        "## Contraste de Hipótesis\n",
        "\n",
        "$H_{0}: \\mu_{A} =\\mu_{B}  \\ \\ \\text{vs} \\ \\ H_{a}:\\mu_{A}> \\mu_{B} $"
      ],
      "metadata": {
        "id": "ASwFIYZaLBVo"
      }
    },
    {
      "cell_type": "code",
      "source": [
        "results = pg.mwu(A,B, alternative='greater')\n",
        "print(results)"
      ],
      "metadata": {
        "colab": {
          "base_uri": "https://localhost:8080/"
        },
        "outputId": "054b4e2a-6c44-4cfe-e50a-a696903d2b76",
        "id": "C5QWwWfbLBVp"
      },
      "execution_count": 9,
      "outputs": [
        {
          "output_type": "stream",
          "name": "stdout",
          "text": [
            "     U-val alternative     p-val    RBC    CLES\n",
            "MWU   57.0     greater  0.071109  0.425  0.7125\n"
          ]
        }
      ]
    },
    {
      "cell_type": "markdown",
      "source": [
        "## Conclusión\n",
        "\n",
        "$p-Value>\\alpha$, por lo tanto no rechazamos $H_{0}$. Por lo tanto, $\\mu_{A} =\\mu_{B}$  "
      ],
      "metadata": {
        "id": "Ia-bBT14LBVr"
      }
    },
    {
      "cell_type": "markdown",
      "source": [
        "# Ejercicios: Prueba H de Kruskal Wallis"
      ],
      "metadata": {
        "id": "lUV0mUZsaq_X"
      }
    },
    {
      "cell_type": "markdown",
      "source": [
        "## Ejercicio 1:\n",
        "\n",
        " Los empleados que contrata la empresa Williams Manufacturings para\n",
        " su departamento administrativo provienen de tres universidades. Re\n",
        "cien el departamento de personal de la empresa ha empezado a revisar\n",
        " el desempeño anual para determinar si hay diferencia en el desempeño\n",
        " de los empleados provenientes de estas tres universidades. Se cuenta con\n",
        " los datos de muestras independientes de clasificación de acuerdo con su\n",
        " desempeño de siete empleados provenientes de la universidad A, seis\n",
        " de la universidad B y siete de la universidad C. Suponga que se desea\n",
        " probar si las tres poblaciones son idénticas respecto a las calificaciones\n",
        " por su desempeño. Use un nivel de significancia de 0.05.\n",
        "\n",
        " ![image.png](data:image/png;base64,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)"
      ],
      "metadata": {
        "id": "IiSg0Y-Ga3AD"
      }
    },
    {
      "cell_type": "code",
      "source": [
        "# Datos:\n",
        "A = [25,70,60,85,95,90,80]\n",
        "B = [60,20,30,15,40,35]\n",
        "C = [50,70,60,80,90,70,75]\n",
        "\n",
        "# Realizamos la Prueba H de Kruskal-Wallis\n",
        "statistic, p_value = stats.kruskal(A, B, C)\n",
        "\n",
        "# Mostramos los resultados\n",
        "print(f'Estadístico H: {statistic}')\n",
        "print(f'Valor p: {p_value}')\n",
        "\n",
        "# Nivel de significancia\n",
        "alpha = 0.05\n",
        "if p_value < alpha:\n",
        "    print(\"Rechazamos la hipótesis nula: Hay diferencias significativas entre los grupos.\")\n",
        "else:\n",
        "    print(\"No rechazamos la hipótesis nula: No hay diferencias significativas entre los grupos.\")\n"
      ],
      "metadata": {
        "colab": {
          "base_uri": "https://localhost:8080/"
        },
        "id": "BcvaZxR5ary9",
        "outputId": "64ed908e-920b-4c29-f339-f97b117faa83"
      },
      "execution_count": 10,
      "outputs": [
        {
          "output_type": "stream",
          "name": "stdout",
          "text": [
            "Estadístico H: 8.983874458874453\n",
            "Valor p: 0.011198927889247982\n",
            "Rechazamos la hipótesis nula: Hay diferencias significativas entre los grupos.\n"
          ]
        }
      ]
    },
    {
      "cell_type": "markdown",
      "source": [
        "## Ejercicio 2\n",
        "\n",
        "En un experimento para determinar cuál de tres diferentes sistemas\n",
        " de misiles es preferible, se mide la tasa de combustión del propulsor.\n",
        " Los datos, después de codificarlos, se presentan en la tabla. Utilice la\n",
        " prueba de Kruskal-Wallis y un nivel de significancia de 0.05 para probar\n",
        " la hipótesis de que las tasas de combustión del propulsor son iguales\n",
        " para los tres sistemas de misiles.\n",
        "\n",
        " ![image.png](data:image/png;base64,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)"
      ],
      "metadata": {
        "id": "KBGH65QPbXBf"
      }
    },
    {
      "cell_type": "code",
      "source": [
        "# Datos:\n",
        "A1 = [24,19.8,16.7,22.8,18.9]\n",
        "B2 = [23.2,17.6,19.8,20.2,18.1,17.8]\n",
        "C3 = [18.4,17.3,18.8,19.1,19.7,19.3,17.3,18.9]\n",
        "\n",
        "# Realizamos la Prueba H de Kruskal-Wallis\n",
        "statistic, p_value = stats.kruskal(A1, B2, C3)\n",
        "\n",
        "# Mostramos los resultados\n",
        "print(f'Estadístico H: {statistic}')\n",
        "print(f'Valor p: {p_value}')\n",
        "\n",
        "# Nivel de significancia\n",
        "alpha = 0.05\n",
        "if p_value < alpha:\n",
        "    print(\"Rechazamos la hipótesis nula: Hay diferencias significativas entre los grupos.\")\n",
        "else:\n",
        "    print(\"No rechazamos la hipótesis nula: No hay diferencias significativas entre los grupos.\")\n"
      ],
      "metadata": {
        "colab": {
          "base_uri": "https://localhost:8080/"
        },
        "outputId": "0014b786-56c5-45c9-dd30-267d92b1aaa6",
        "id": "DWB4E8WZ0EUs"
      },
      "execution_count": 11,
      "outputs": [
        {
          "output_type": "stream",
          "name": "stdout",
          "text": [
            "Estadístico H: 1.6629947229551505\n",
            "Valor p: 0.4353968515051556\n",
            "No rechazamos la hipótesis nula: No hay diferencias significativas entre los grupos.\n"
          ]
        }
      ]
    },
    {
      "cell_type": "markdown",
      "source": [
        "## Ejercicio 3\n",
        "\n",
        "Se dan lascalificaciones del examen de aprovechamiento para cuatro\n",
        " diferentes grupos de estudiantes,donde cada grupo recibió enseñanza\n",
        " mediante una técnica diferente. El objetivo del experimento es probar la\n",
        " hipótesis de que no hay diferencia, en las distribuciones poblacionales de\n",
        " las calificaciones del examen de aprovechamiento, contra la alternativa\n",
        " de que difieren en ubicación. Use un nivel de significancia de 0.05.\n",
        "\n",
        " ![image.png](data:image/png;base64,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)\n",
        "\n"
      ],
      "metadata": {
        "id": "9oU6m1QKbpw9"
      }
    },
    {
      "cell_type": "code",
      "source": [
        "# Datos:\n",
        "A = [65,87,73,79,81,69]\n",
        "B = [75,69,83,81,72,79,90]\n",
        "C = [59,78,67,62,83,76]\n",
        "D = [94,89,80,88]\n",
        "\n",
        "# Realizamos la Prueba H de Kruskal-Wallis\n",
        "statistic, p_value = stats.kruskal(A, B, C,D)\n",
        "\n",
        "# Mostramos los resultados\n",
        "print(f'Estadístico H: {statistic}')\n",
        "print(f'Valor p: {p_value}')\n",
        "\n",
        "# Nivel de significancia\n",
        "alpha = 0.05\n",
        "if p_value < alpha:\n",
        "    print(\"Rechazamos la hipótesis nula: Hay diferencias significativas entre los grupos.\")\n",
        "else:\n",
        "    print(\"No rechazamos la hipótesis nula: No hay diferencias significativas entre los grupos.\")\n"
      ],
      "metadata": {
        "colab": {
          "base_uri": "https://localhost:8080/"
        },
        "outputId": "029017b0-cefc-4e3c-bc30-b68a8f2d08a1",
        "id": "ijdWcrDd0Fuk"
      },
      "execution_count": 12,
      "outputs": [
        {
          "output_type": "stream",
          "name": "stdout",
          "text": [
            "Estadístico H: 7.790499764262136\n",
            "Valor p: 0.05054580315774074\n",
            "No rechazamos la hipótesis nula: No hay diferencias significativas entre los grupos.\n"
          ]
        }
      ]
    },
    {
      "cell_type": "markdown",
      "source": [
        "## Ejercicio 4\n",
        "\n",
        "El Hospital System of the Carolinas opera tres hospitales en el área de Great Charlotte:\n",
        "\n",
        "St. Luke's Memorial, en el lado poniente de la ciudad.\n",
        "Swedish Medical Center, al sur.\n",
        "Piedmont Hospital, en el lado este.\n",
        "El director de administración está preocupado acerca del tiempo de espera de los pacientes con lesiones de tipo deportivo, que no ponen en peligro la vida y que llegan durante las tardes entre semana a los tres hospitales.\n",
        "\n",
        "Específicamente, la pregunta es:\n",
        "\n",
        "¿Existe una diferencia en los tiempos de espera en los tres hospitales?\n",
        "\n",
        "Use un nivel de significancia de 0.05.\n",
        "\n",
        "![image.png](data:image/png;base64,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)"
      ],
      "metadata": {
        "id": "kAG8bOp0cX6E"
      }
    },
    {
      "cell_type": "code",
      "source": [
        "# Datos:\n",
        "Poniente = [56,39,48,38,73,60,62]\n",
        "Sur = [103,87,51,95,68,42,107,89]\n",
        "Este = [42,38,89,75,35,61]\n",
        "\n",
        "# Realizamos la Prueba H de Kruskal-Wallis\n",
        "statistic, p_value = stats.kruskal(Poniente, Sur, Este)\n",
        "\n",
        "# Mostramos los resultados\n",
        "print(f'Estadístico H: {statistic}')\n",
        "print(f'Valor p: {p_value}')\n",
        "\n",
        "# Nivel de significancia\n",
        "alpha = 0.05\n",
        "if p_value < alpha:\n",
        "    print(\"Rechazamos la hipótesis nula: Hay diferencias significativas entre los grupos.\")\n",
        "else:\n",
        "    print(\"No rechazamos la hipótesis nula: No hay diferencias significativas entre los grupos.\")\n"
      ],
      "metadata": {
        "colab": {
          "base_uri": "https://localhost:8080/"
        },
        "outputId": "0d0d8a7f-1991-44be-a68a-c948cd8952dc",
        "id": "NkaxZy4o0yMx"
      },
      "execution_count": 13,
      "outputs": [
        {
          "output_type": "stream",
          "name": "stdout",
          "text": [
            "Estadístico H: 5.394088669950742\n",
            "Valor p: 0.06740444356483703\n",
            "No rechazamos la hipótesis nula: No hay diferencias significativas entre los grupos.\n"
          ]
        }
      ]
    }
  ]
}